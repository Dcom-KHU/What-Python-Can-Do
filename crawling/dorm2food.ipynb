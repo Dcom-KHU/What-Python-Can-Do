{
 "cells": [
  {
   "cell_type": "markdown",
   "metadata": {},
   "source": [
    "# 제2긱 오늘 식단\n",
    "제2기숙사 오늘 식단을 알아 볼 수 있는 코드입니다."
   ]
  },
  {
   "cell_type": "code",
   "execution_count": 1,
   "metadata": {},
   "outputs": [],
   "source": [
    "import requests"
   ]
  },
  {
   "cell_type": "code",
   "execution_count": 2,
   "metadata": {},
   "outputs": [],
   "source": [
    "request_data = {'locgbn': 'K1', 'sch_date': '', 'fo_gbn': 'stu'}\n",
    "r = requests.post('https://dorm2.khu.ac.kr/dorm2/food/getWeeklyMenu.kmc', data=request_data)\n",
    "json_var = r.json()['root'][0]"
   ]
  },
  {
   "cell_type": "code",
   "execution_count": 3,
   "metadata": {},
   "outputs": [
    {
     "name": "stdout",
     "output_type": "stream",
     "text": [
      "{'lun_main': '사골떡만둣국,새우완자전,고추지무침,쌀밥,깍두기', 'eve_main': '부대찌개,스크램블에그,건파래볶음,쌀밥,깍두기'}\n"
     ]
    }
   ],
   "source": [
    "weeklymenu = json_var['WEEKLYMENU'][0]\n",
    "today = weeklymenu['today']\n",
    "\n",
    "dict_var = {}\n",
    "\n",
    "for i in range(1, 8):\n",
    "    si = str(i)\n",
    "\n",
    "    if weeklymenu['fo_date' + si] == today:\n",
    "        dict_var['lun_main'] = weeklymenu['fo_menu_lun' + si]\n",
    "        dict_var['eve_main'] = weeklymenu['fo_menu_eve' + si]\n",
    "\n",
    "        if i >= 1 and i <= 5:\n",
    "            dict_var['mor_main'] = weeklymenu['fo_menu_mor' + si]\n",
    "            dict_var['mor_sub'] = weeklymenu['fo_sub_mor' + si]\n",
    "            dict_var['lun_sub'] = weeklymenu['fo_sub_run' + si]\n",
    "            dict_var['eve_sub'] = weeklymenu['fo_sub_eve' + si]\n",
    "            dict_var['special'] = weeklymenu['fo_sub_menu' + si]\n",
    "            break\n",
    "\n",
    "print(dict_var)"
   ]
  },
  {
   "cell_type": "code",
   "execution_count": null,
   "metadata": {},
   "outputs": [],
   "source": []
  }
 ],
 "metadata": {
  "kernelspec": {
   "display_name": "Python 3",
   "language": "python",
   "name": "python3"
  },
  "language_info": {
   "codemirror_mode": {
    "name": "ipython",
    "version": 3
   },
   "file_extension": ".py",
   "mimetype": "text/x-python",
   "name": "python",
   "nbconvert_exporter": "python",
   "pygments_lexer": "ipython3",
   "version": "3.6.8"
  }
 },
 "nbformat": 4,
 "nbformat_minor": 2
}
